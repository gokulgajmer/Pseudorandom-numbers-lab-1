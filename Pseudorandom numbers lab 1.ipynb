{
 "cells": [
  {
   "cell_type": "markdown",
   "metadata": {},
   "source": [
    "### task 1"
   ]
  },
  {
   "cell_type": "code",
   "execution_count": 69,
   "metadata": {},
   "outputs": [
    {
     "name": "stdout",
     "output_type": "stream",
     "text": [
      "[0.63765337 0.74900264 0.63022711 0.80294393 0.00784068 0.47322773\n",
      " 0.37467762 0.16205089 0.07929438 0.95756617 0.88516056 0.81731183\n",
      " 0.71158604 0.7165945  0.35411513 0.09821793 0.77172732 0.05932031\n",
      " 0.14297166 0.25912365 0.85347622 0.14433154 0.27512807 0.51281453\n",
      " 0.55736459 0.3475325  0.26805106 0.40161456 0.93841299 0.88543777\n",
      " 0.6943774  0.66869893 0.22890817 0.82707169 0.72872091 0.73576686\n",
      " 0.01585245 0.04042752 0.41029438 0.95466801 0.19365213 0.16256295\n",
      " 0.80121768 0.28743707 0.63159509 0.37003216 0.90067902 0.38124998\n",
      " 0.9367547  0.02894303 0.3387766  0.63284665 0.35480804 0.10807168\n",
      " 0.72893194 0.07674454 0.45291378 0.48281385 0.81133186 0.03065729\n",
      " 0.43894493 0.88695144 0.40150791 0.14044645 0.20591624 0.08954321\n",
      " 0.30993533 0.66940245 0.4019731  0.47171791 0.95016052 0.12513726\n",
      " 0.76412054 0.52495944 0.12610958 0.89383041 0.46658515 0.94949266\n",
      " 0.97888177 0.46524247 0.80494594 0.73710259 0.8481516  0.19332476\n",
      " 0.96930139 0.93442145 0.63493236 0.01508019 0.26323493 0.72075218\n",
      " 0.47795383 0.72385605 0.07884292 0.20129072 0.62384801 0.62002534\n",
      " 0.48299295 0.17569164 0.53791123 0.83056103]\n"
     ]
    }
   ],
   "source": [
    "import numpy as np\n",
    "nums1 = np.random.uniform(size=100)\n",
    "print(nums1)"
   ]
  },
  {
   "cell_type": "code",
   "execution_count": 70,
   "metadata": {},
   "outputs": [
    {
     "name": "stdout",
     "output_type": "stream",
     "text": [
      "[-7.5619367   1.06530341  4.14592281  8.25494514  2.95310241  3.99365323\n",
      " -7.96107583  0.58802608  0.73932505 -6.04226122  7.13533433 -0.6591032\n",
      " -0.49818652  3.63902787 -3.50401916  6.18680853 -9.2174077  -7.9781052\n",
      "  2.42109159  5.5765025  -6.8123903  -7.40035668  8.64319574 -2.88215148\n",
      " -9.68216873 -6.45068588  1.76414668  6.78277946  6.02350106 -8.87944323\n",
      "  0.67775252 -0.52243216  9.66189795 -6.95856996  3.05288351  5.25720613\n",
      " -5.4087099  -6.33541973  3.33702581  5.4172681   6.3161856   8.07925266\n",
      " -9.97118906 -2.47310838 -2.72196191 -8.58338819  3.34687139  8.35579482\n",
      "  0.30884761  1.92731084 -1.70123932  8.11020792  4.06247457 -1.62804742\n",
      " -3.4166651   6.63808707 -7.5453064  -5.85811218  9.76203145 -8.69043843\n",
      "  1.55847518  6.06662432 -8.35337552 -8.22677763  1.58677119  5.00893868\n",
      " -4.78697427 -8.30924892  5.21641706 -8.71773579  2.47087688  4.8187434\n",
      "  1.69967672  9.01979156  0.56305973  0.19470248 -7.03015368 -8.98926261\n",
      "  7.39126268  2.6795055   9.75929212  6.9442088   4.16746113 -7.58836556\n",
      "  4.89802528  3.77751692  0.54238202 -9.55023695  3.34330114  2.09382069\n",
      "  4.41101329 -2.43557249 -4.06395618 -1.3945587  -9.8346824  -3.74760345\n",
      "  9.29341394  7.8659897   7.11569376  5.11233146]\n"
     ]
    }
   ],
   "source": [
    "#2\n",
    "import numpy as np\n",
    "nums2 = np.random.uniform(low=-10,high=10,size=100)\n",
    "print(nums2)"
   ]
  },
  {
   "cell_type": "code",
   "execution_count": 71,
   "metadata": {},
   "outputs": [
    {
     "name": "stdout",
     "output_type": "stream",
     "text": [
      "[ 1.42077316e+00 -1.80019672e-01 -1.84559734e-01  4.29204673e-01\n",
      "  8.01363022e-01  2.82314369e-01  6.93942631e-01  5.99441311e-01\n",
      " -1.08154721e+00 -1.33783105e+00  3.71321949e-01 -1.05914787e-02\n",
      "  6.15798253e-01 -1.59002074e-01  3.61671063e-01  4.63375021e-01\n",
      "  7.07131233e-01 -8.91626831e-01 -4.13455812e-02 -7.96081201e-01\n",
      " -5.31950343e-04  7.87435981e-01  1.71281398e+00 -5.33264183e-01\n",
      " -8.21102797e-01 -1.50066326e-01 -1.70845400e-01  3.71605031e-01\n",
      "  1.54154496e-01 -7.95374750e-01 -5.34839797e-02 -6.10877435e-01\n",
      " -1.61051113e-02 -1.02919139e+00 -7.55489918e-01 -1.34209834e+00\n",
      " -5.78198197e-02  4.19049571e-01 -6.64157237e-01 -6.94813678e-01\n",
      "  1.04273881e+00 -1.30719099e+00  7.03494660e-01  4.37166821e-01\n",
      " -2.43384443e+00  1.71574925e+00 -2.73161323e-01 -4.44142721e-01\n",
      " -1.46415145e-01 -1.58429733e+00  2.26278491e+00  1.77180806e+00\n",
      "  1.04610670e-01 -7.92865967e-01 -1.82109242e+00  3.46096459e-02\n",
      "  1.92652676e-01 -9.86439898e-01 -2.73644107e-02  3.88078455e-01\n",
      " -6.45899176e-01 -6.48151226e-01  2.52114954e-01  4.80586869e-02\n",
      " -1.02486298e+00 -3.29288291e-01 -8.63564732e-02  1.48444222e-02\n",
      " -2.77912223e-01  3.75548873e-01 -1.30774994e+00 -1.13108252e+00\n",
      "  7.07290792e-01 -1.17620678e+00 -2.00630907e+00 -6.28072938e-01\n",
      "  1.66352499e+00 -2.80105563e-01  1.54496777e+00  4.43353171e-01\n",
      " -7.52041725e-02  3.16756704e-01  2.19170200e-01 -3.83952797e-01\n",
      " -1.02395330e+00  6.16014577e-01 -2.69799814e-01 -8.00368959e-01\n",
      "  1.06105544e+00 -5.73828682e-01 -1.55456210e-01 -7.47077998e-01\n",
      "  8.70166039e-01  2.66748752e-01  2.20276552e-01  9.21163528e-02\n",
      "  2.92195688e-01 -9.29190584e-01  5.36742969e-01 -1.77117170e+00]\n"
     ]
    }
   ],
   "source": [
    "#3\n",
    "import numpy as np\n",
    "nums3 = np.random.normal(0,1,100)\n",
    "print(nums3)"
   ]
  },
  {
   "cell_type": "code",
   "execution_count": 72,
   "metadata": {},
   "outputs": [
    {
     "name": "stdout",
     "output_type": "stream",
     "text": [
      "[ 9.83067317  8.98888318  9.78829651  7.98227717  8.94735868 11.43950308\n",
      "  9.12595196 10.87851364  9.69460698 11.19295683  9.38152216 10.89622113\n",
      " 10.22369467 10.89543025 11.82576261  9.9915292  10.47025481 10.10015865\n",
      "  8.78684378 12.10320855 10.50666456  9.30276778 11.29594035  8.0028871\n",
      " 11.99937401  9.26816684 10.2127513   9.92153654 10.5070912   9.38526093\n",
      " 10.88536029 10.05041843  9.25136312  9.66749316 10.24365354 10.86431315\n",
      "  9.00170335 10.0684593  10.17036387 10.19053254 11.11338752  9.0219982\n",
      " 10.28105644  9.46765226  9.03123598 11.19441591  9.62048574 10.06380205\n",
      "  8.74394677 11.16997586  9.454316    9.45216277  9.21718316  9.90778332\n",
      " 10.81892456  8.06505951 10.9015729   9.61453066  9.62067426  8.9808502\n",
      "  7.77418471  8.57103422  9.71969097  8.11611965  9.73469443 10.75820743\n",
      "  8.81739212 10.1205161  10.82460295 10.28305057  9.27603373  9.51292633\n",
      "  9.68742505 10.3026075  11.77657629 10.64809682  9.90321187 11.33477218\n",
      "  9.47966982 10.57421057  8.93779212 10.28063929  8.02771849  9.9330971\n",
      " 11.61609104  9.85677804 12.25592306  9.50596334 10.41443273  8.93062027\n",
      "  8.59313663 10.74564863  9.29759101 11.226211    9.4113652  11.13709578\n",
      " 11.32401034 11.92555739  8.82504416  9.63920972]\n"
     ]
    }
   ],
   "source": [
    "#4\n",
    "import numpy as np\n",
    "nums4 = np.random.normal(10,1,100)\n",
    "print(nums4)"
   ]
  },
  {
   "cell_type": "code",
   "execution_count": 73,
   "metadata": {
    "scrolled": true
   },
   "outputs": [
    {
     "name": "stdout",
     "output_type": "stream",
     "text": [
      "[ 0.49976255  2.04672229  0.64253451  0.94302595  2.41902686  0.46805818\n",
      "  0.37463552  1.68723586  0.70648245  1.00879853  0.42565104  0.183585\n",
      "  0.82822873  2.44894588  1.08094248  0.51109743  0.3569489   1.56172658\n",
      "  0.44386053  0.71675617  0.80361445  0.45347317  0.44931175  0.65116045\n",
      "  1.10368677  6.22238762  3.80164694  0.51173184  1.05069514  0.76322178\n",
      "  1.36518797  0.19561935  0.26040593  0.24833301  0.46194859  0.62174278\n",
      "  1.5916      0.56145125  0.61350882  2.11061515  0.37170228  0.45654235\n",
      "  0.44337384  0.2132931   1.64233982  0.79910963  0.28682653  1.03859444\n",
      "  0.40677294  0.22957033  0.24664544  1.00033664 18.57671667  1.5459929\n",
      "  0.46139724  0.38112912  1.42067923  1.2458593   5.68419558  4.06597861\n",
      "  8.97746511  1.27515789  1.29171385  4.39523667  1.17370999  0.2268234\n",
      "  2.05092619  1.93468779  0.64878271  1.45289759  0.37495247  0.4351763\n",
      "  1.15856248  0.49055151  0.42263944  0.69878194  0.6071847   0.36086548\n",
      "  1.18630355  6.84237735  3.65411705  0.57862857  0.3310969   0.79222558\n",
      "  1.24497507  1.13700424  2.22717473  0.07626393  1.12547652  1.89307494\n",
      " 10.17282301  0.98026139  0.29712201  1.49220172  0.45350643  1.02167616\n",
      "  1.90169744  0.80711658  0.7740712   2.35781551]\n"
     ]
    }
   ],
   "source": [
    "#5\n",
    "import numpy as np\n",
    "nums5= np.random.lognormal(mean=0,sigma=1,size=100)\n",
    "print(nums5)"
   ]
  },
  {
   "cell_type": "code",
   "execution_count": 74,
   "metadata": {},
   "outputs": [
    {
     "name": "stdout",
     "output_type": "stream",
     "text": [
      "[ 11403.49831036 130271.47290492   7580.8266025   38301.61216883\n",
      "   7118.79621025 217363.69789661  49899.46625077   4235.55728538\n",
      "   1147.37549887 243749.71762453   5456.93226882   8871.98664067\n",
      "   2534.80414532  28237.34651349  24257.16393421  38232.19124259\n",
      "  17768.32825443   9513.96431727  49911.34822154   3151.59480638\n",
      "   5220.57661752  16233.95139029 114213.37501676  68636.36384518\n",
      "   7519.24779392   3831.56373186  24170.43005493  19902.09962981\n",
      "  39997.80469878  30599.89641029  91920.06759404  29359.42205781\n",
      "   4498.95177081   6620.67031176  30865.10292332   9974.45381422\n",
      "  29122.68517201  62307.28203528   6302.14319018   9544.83774251\n",
      "  28376.97699292  15257.82356714   7879.46085482  40069.26915948\n",
      "   3767.7042413   19444.2587417  201722.22477919   3002.15282597\n",
      "  27323.338655    22140.00771901   5915.29843428  14733.25046785\n",
      "  21209.06467162 265256.69603112  22250.61674099   7135.46170352\n",
      "   9232.29145294  36485.5461706   51725.66740878   7316.40317291\n",
      " 160553.87215514  69041.91666288  79785.65555024   5459.1211828\n",
      "  44092.73577351  47335.1184461   31381.86313234  18076.792818\n",
      "  15022.06893413  74754.95657896  61192.93472208  18564.74337963\n",
      "   6593.79353714  11009.9156589    8843.52428236  16495.15427658\n",
      "  10301.30823761   8339.13134569   2464.59651057  32325.57515736\n",
      "  76535.45670929   8195.37426497  20872.7393226   30505.91071566\n",
      " 122833.82610531  51424.0620637   14151.50723517 152230.12227501\n",
      "  10932.24118275  33543.35796654  95525.01254383  53130.36309708\n",
      "  32431.75573071  35566.40971927   8956.887436    24406.19729982\n",
      "  25656.21556925 107836.04224591  24674.07042897  45767.65725998]\n"
     ]
    }
   ],
   "source": [
    "#6\n",
    "import numpy as np\n",
    "nums6 = np.random.lognormal(10,1,100)\n",
    "print(nums6)"
   ]
  },
  {
   "cell_type": "markdown",
   "metadata": {},
   "source": [
    "### task 2"
   ]
  },
  {
   "cell_type": "code",
   "execution_count": 82,
   "metadata": {},
   "outputs": [
    {
     "data": {
      "image/png": "[encoded data removed]",
      "text/plain": [
       "<Figure size 432x288 with 1 Axes>"
      ]
     },
     "metadata": {
      "needs_background": "light"
     },
     "output_type": "display_data"
    }
   ],
   "source": [
    "from matplotlib import pyplot\n",
    "from numpy.random import normal\n",
    "from numpy import hstack\n",
    "nums1 = np.random.uniform(size=100)\n",
    "nums2 = np.random.uniform(low=-10,high=10,size=100)\n",
    "nums3 = np.random.normal(0,1,100)\n",
    "nums4 = np.random.normal(10,1,100)\n",
    "nums5= np.random.lognormal(mean=0,sigma=1,size=100)\n",
    "nums6 = np.random.lognormal(10,1,100)\n",
    "sample = hstack((nums1,nums2,nums3,nums4,nums5,nums6))\n",
    "# plot the histogram\n",
    "pyplot.hist(sample, bins=50)\n",
    "pyplot.show()"
   ]
  },
  {
   "cell_type": "markdown",
   "metadata": {},
   "source": [
    "### Task3"
   ]
  },
  {
   "cell_type": "code",
   "execution_count": 76,
   "metadata": {},
   "outputs": [
    {
     "name": "stdout",
     "output_type": "stream",
     "text": [
      "0.2926103515867215\n"
     ]
    }
   ],
   "source": [
    "Standard_devation1= np.std(nums1) \n",
    "print(Standard_devation1)"
   ]
  },
  {
   "cell_type": "code",
   "execution_count": 77,
   "metadata": {},
   "outputs": [
    {
     "name": "stdout",
     "output_type": "stream",
     "text": [
      "6.100780863507549\n"
     ]
    }
   ],
   "source": [
    "Standard_devation2= np.std(nums2) \n",
    "print(Standard_devation2)"
   ]
  },
  {
   "cell_type": "code",
   "execution_count": 78,
   "metadata": {},
   "outputs": [
    {
     "name": "stdout",
     "output_type": "stream",
     "text": [
      "1.0666333449503227\n"
     ]
    }
   ],
   "source": [
    "Standard_devation3= np.std(nums3) \n",
    "print(Standard_devation3)"
   ]
  },
  {
   "cell_type": "code",
   "execution_count": 79,
   "metadata": {},
   "outputs": [
    {
     "name": "stdout",
     "output_type": "stream",
     "text": [
      "1.0725663768092435\n"
     ]
    }
   ],
   "source": [
    "Standard_devation4= np.std(nums4) \n",
    "print(Standard_devation4)"
   ]
  },
  {
   "cell_type": "code",
   "execution_count": 80,
   "metadata": {},
   "outputs": [
    {
     "name": "stdout",
     "output_type": "stream",
     "text": [
      "2.058461882089052\n"
     ]
    }
   ],
   "source": [
    "Standard_devation5= np.std(nums5) \n",
    "print(Standard_devation5)"
   ]
  },
  {
   "cell_type": "code",
   "execution_count": 81,
   "metadata": {},
   "outputs": [
    {
     "name": "stdout",
     "output_type": "stream",
     "text": [
      "30337.990227377897\n"
     ]
    }
   ],
   "source": [
    "Standard_devation6= np.std(nums6) \n",
    "print(Standard_devation6)"
   ]
  },
  {
   "cell_type": "markdown",
   "metadata": {},
   "source": [
    "### Task 4"
   ]
  },
  {
   "cell_type": "code",
   "execution_count": null,
   "metadata": {},
   "outputs": [],
   "source": []
  }
 ],
 "metadata": {
  "kernelspec": {
   "display_name": "Python 3",
   "language": "python",
   "name": "python3"
  },
  "language_info": {
   "codemirror_mode": {
    "name": "ipython",
    "version": 3
   },
   "file_extension": ".py",
   "mimetype": "text/x-python",
   "name": "python",
   "nbconvert_exporter": "python",
   "pygments_lexer": "ipython3",
   "version": "3.7.4"
  }
 },
 "nbformat": 4,
 "nbformat_minor": 2
}
